{
 "cells": [
  {
   "cell_type": "code",
   "execution_count": null,
   "metadata": {},
   "outputs": [],
   "source": [
    "import RiotAnalyzer as Ra\n",
    "from importlib import reload\n",
    "import pandas as pd"
   ]
  },
  {
   "cell_type": "code",
   "execution_count": null,
   "metadata": {},
   "outputs": [],
   "source": [
    "api_key = 'RGAPI-9c72c116-9d41-4245-8af9-e431b87bf6cc'\n",
    "game_version = \"13.17.1\""
   ]
  },
  {
   "cell_type": "code",
   "execution_count": null,
   "metadata": {},
   "outputs": [],
   "source": [
    "header = {\n",
    "    \"User-Agent\": \"Mozilla/5.0 (Windows NT 10.0; Win64; x64) AppleWebKit/537.36 (KHTML, like Gecko) Chrome/116.0.0.0 Safari/537.36\",\n",
    "    \"Accept-Language\": \"en-US,en;q=0.9,id;q=0.8,ja;q=0.7\",\n",
    "    \"Accept-Charset\": \"application/x-www-form-urlencoded; charset=UTF-8\",\n",
    "    \"Origin\": \"https://developer.riotgames.com\",\n",
    "    \"X-Riot-Token\": \"RGAPI-9c72c116-9d41-4245-8af9-e431b87bf6cc\"\n",
    "}"
   ]
  },
  {
   "cell_type": "code",
   "execution_count": 134,
   "metadata": {},
   "outputs": [],
   "source": [
    "reload(Ra)\n",
    "ra = Ra.RiotAnalyzer(api_key)"
   ]
  },
  {
   "cell_type": "code",
   "execution_count": 135,
   "metadata": {},
   "outputs": [
    {
     "name": "stdout",
     "output_type": "stream",
     "text": [
      "Queried pages: 1, 2, 3, 4, 5, 6, 7, 8, 9, 10, \n",
      "11, 12, 13, 14, 15, 16, 17, 18, Total entries: 3394\n"
     ]
    }
   ],
   "source": [
    "top_50 = ra.get_top(queue=\"soloq\", rank=\"d1\", keep_top=50)"
   ]
  },
  {
   "cell_type": "code",
   "execution_count": 141,
   "metadata": {},
   "outputs": [
    {
     "data": {
      "text/plain": [
       "Index(['leagueId', 'queueType', 'tier', 'rank', 'summonerId', 'summonerName',\n",
       "       'leaguePoints', 'wins', 'losses', 'veteran', 'inactive', 'freshBlood',\n",
       "       'hotStreak', 'winrate'],\n",
       "      dtype='object')"
      ]
     },
     "execution_count": 141,
     "metadata": {},
     "output_type": "execute_result"
    }
   ],
   "source": [
    "print(top_50.columns)"
   ]
  },
  {
   "cell_type": "code",
   "execution_count": 150,
   "metadata": {},
   "outputs": [
    {
     "data": {
      "text/plain": [
       "'OTzm2GhenEDx0RNnGJRUpAJW1abK8MilGsIjFDzelytD-6-jb5WzaDJLsA'"
      ]
     },
     "execution_count": 150,
     "metadata": {},
     "output_type": "execute_result"
    }
   ],
   "source": [
    "top_50_org = top_50[[\"summonerName\", \"leaguePoints\", \"winrate\", \"wins\", \"losses\", \"summonerId\", 'veteran', 'inactive', 'freshBlood', 'hotStreak']]\n",
    "top_50_org[top_50_org[\"freshBlood\"]].iloc[0][\"summonerId\"]"
   ]
  }
 ],
 "metadata": {
  "kernelspec": {
   "display_name": "base",
   "language": "python",
   "name": "python3"
  },
  "language_info": {
   "codemirror_mode": {
    "name": "ipython",
    "version": 3
   },
   "file_extension": ".py",
   "mimetype": "text/x-python",
   "name": "python",
   "nbconvert_exporter": "python",
   "pygments_lexer": "ipython3",
   "version": "3.11.4"
  },
  "orig_nbformat": 4
 },
 "nbformat": 4,
 "nbformat_minor": 2
}
