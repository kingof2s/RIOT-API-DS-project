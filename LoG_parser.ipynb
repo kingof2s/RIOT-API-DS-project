{
 "cells": [
  {
   "cell_type": "code",
   "execution_count": 101,
   "metadata": {},
   "outputs": [],
   "source": [
    "from selenium import webdriver\n",
    "from selenium.webdriver.common.by import By\n",
    "from selenium.webdriver.chrome.options import Options\n",
    "\n",
    "from bs4 import BeautifulSoup\n",
    "\n",
    "# Initialize the Chrome driver\n",
    "chrome_options = Options()\n",
    "chrome_options.add_argument(\"--incognito\")\n",
    "chrome_options.add_argument(\"--headless\")\n",
    "def scrape_log(champ_name:str):\n",
    "    champ_name = champ_name.lower()\n",
    "    url = f'https://www.leagueofgraphs.com/champions/stats/{champ_name}'\n",
    "    \n",
    "    driver = webdriver.Chrome(options=chrome_options)\n",
    "    driver.get(url)\n",
    "    html = None\n",
    "    try:\n",
    "        # Search for <table class=\"data_table sortable_table\">\n",
    "        table = driver.find_element(By.CLASS_NAME, \"data_table\")  \n",
    "    except NoSuchElementException:\n",
    "        print(\"Champion name incorrect\")\n",
    "    else:\n",
    "        # Get the table's inner HTML\n",
    "        html = table.get_attribute(\"innerHTML\")  \n",
    "    finally:\n",
    "        driver.close()\n",
    "    \n",
    "    return html\n",
    "def parse_log(html:str):\n",
    "    # Parse the html\n",
    "    soup = BeautifulSoup(html, \"html.parser\")\n",
    "\n",
    "    # Look for <progressbar> tags with attribute data-color=\"wgblue\"\n",
    "    # and print their \"data-value\" attribute\n",
    "    role_winrates = []\n",
    "    for progressbar in soup.find_all(\"progressbar\", {\"data-color\": \"wgblue\"}):\n",
    "        wr = progressbar[\"data-value\"]\n",
    "        wr = float(f\"{100*float(wr):.2f}\")\n",
    "        role_winrates.append(wr)\n",
    "\n",
    "    top_roles = []\n",
    "    # Look for all <a> tags in table\n",
    "    for a in soup.find_all(\"a\"):\n",
    "        top_roles.append(a[\"filter-role\"])\n",
    "\n",
    "    role_winrates = dict(zip(top_roles, role_winrates))\n",
    "    return role_winrates\n",
    "def get_champ_roles(champ_name:str):\n",
    "    html = scrape_log(champ_name)\n",
    "    role_winrates = parse_log(html)\n",
    "    return role_winrates"
   ]
  }
 ],
 "metadata": {
  "kernelspec": {
   "display_name": "base",
   "language": "python",
   "name": "python3"
  },
  "language_info": {
   "codemirror_mode": {
    "name": "ipython",
    "version": 3
   },
   "file_extension": ".py",
   "mimetype": "text/x-python",
   "name": "python",
   "nbconvert_exporter": "python",
   "pygments_lexer": "ipython3",
   "version": "3.11.4"
  },
  "orig_nbformat": 4
 },
 "nbformat": 4,
 "nbformat_minor": 2
}
