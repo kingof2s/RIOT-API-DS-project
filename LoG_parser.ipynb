{
 "cells": [
  {
   "cell_type": "code",
   "execution_count": 42,
   "metadata": {},
   "outputs": [],
   "source": [
    "from selenium import webdriver\n",
    "from selenium.webdriver.common.by import By\n",
    "from selenium.webdriver.chrome.options import Options\n",
    "from selenium.common.exceptions import NoSuchElementException\n",
    "\n",
    "from bs4 import BeautifulSoup"
   ]
  },
  {
   "cell_type": "code",
   "execution_count": 40,
   "metadata": {},
   "outputs": [],
   "source": [
    "url = \"https://www.leagueofgraphs.com/champions/stats/shyvana\"\n",
    "\n",
    "\n",
    "# Initialize the Chrome driver\n",
    "chrome_options = Options()\n",
    "chrome_options.add_argument(\"--incognito\")\n",
    "driver = webdriver.Chrome(options=chrome_options)\n",
    "\n",
    "driver.get(url)\n",
    "html = driver.page_source\n",
    "driver.close()"
   ]
  },
  {
   "cell_type": "code",
   "execution_count": 50,
   "metadata": {},
   "outputs": [],
   "source": [
    "# Parse the HTML\n",
    "soup = BeautifulSoup(html, \"html.parser\")\n",
    "tables = soup.find_all(\"table\")\n"
   ]
  },
  {
   "cell_type": "code",
   "execution_count": 66,
   "metadata": {},
   "outputs": [
    {
     "data": {
      "text/plain": [
       "{'JUNGLE': '0.75777862098873',\n",
       " 'TOP': '0.21427797051171',\n",
       " 'MIDDLE': '0.025178881179532',\n",
       " 'SUPPORT': '0.0017888117953166',\n",
       " 'ADC': '0.00097571552471813'}"
      ]
     },
     "execution_count": 66,
     "metadata": {},
     "output_type": "execute_result"
    }
   ],
   "source": [
    "for table in tables:\n",
    "    # if table contains the word \"Role\", print it\n",
    "    if table.find(\"th\", string=\"Role\"):\n",
    "        break\n",
    "table\n",
    "# Look for <progressbar> tags with attribute data-color=\"wgblue\"\n",
    "# and print their \"data-value\" attribute\n",
    "role_picks = []\n",
    "for progressbar in soup.find_all(\"progressbar\", {\"data-color\": \"wgblue\"}):\n",
    "    role_picks.append(progressbar[\"data-value\"])\n",
    "\n",
    "top_roles = []\n",
    "# Look for all <a> tags in table\n",
    "for a in table.find_all(\"a\"):\n",
    "    top_roles.append(a[\"filter-role\"])\n",
    "\n",
    "# Associate each role with its pick rate\n",
    "top_roles = dict(zip(top_roles, role_picks))\n",
    "top_roles"
   ]
  }
 ],
 "metadata": {
  "kernelspec": {
   "display_name": "base",
   "language": "python",
   "name": "python3"
  },
  "language_info": {
   "codemirror_mode": {
    "name": "ipython",
    "version": 3
   },
   "file_extension": ".py",
   "mimetype": "text/x-python",
   "name": "python",
   "nbconvert_exporter": "python",
   "pygments_lexer": "ipython3",
   "version": "3.11.4"
  },
  "orig_nbformat": 4
 },
 "nbformat": 4,
 "nbformat_minor": 2
}
